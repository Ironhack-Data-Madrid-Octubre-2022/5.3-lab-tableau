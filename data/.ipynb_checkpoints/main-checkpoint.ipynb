{
 "cells": [
  {
   "cell_type": "code",
   "execution_count": 1,
   "id": "5584b24e",
   "metadata": {},
   "outputs": [],
   "source": [
    "url='https://public.tableau.com/app/profile/jonatan8567/viz/LabNony/Historia1#guest=n&1'"
   ]
  },
  {
   "cell_type": "markdown",
   "id": "94fee5b4",
   "metadata": {},
   "source": [
    "He intentado modificar el tableu en la web y no se me termina de publicar y se me quedan los comentarios pisados. Después del quinto intento haciendo lo mismo, he desistido porque me estaba empezando a dar error ya, así que bueno, espero que maás o menos se vea claro así. Si tengo que modificarlo, me decís y lo intento de nuevo mañana a ver. Gracias ♥"
   ]
  }
 ],
 "metadata": {
  "kernelspec": {
   "display_name": "Clase",
   "language": "python",
   "name": "clase"
  },
  "language_info": {
   "codemirror_mode": {
    "name": "ipython",
    "version": 3
   },
   "file_extension": ".py",
   "mimetype": "text/x-python",
   "name": "python",
   "nbconvert_exporter": "python",
   "pygments_lexer": "ipython3",
   "version": "3.8.13"
  }
 },
 "nbformat": 4,
 "nbformat_minor": 5
}
