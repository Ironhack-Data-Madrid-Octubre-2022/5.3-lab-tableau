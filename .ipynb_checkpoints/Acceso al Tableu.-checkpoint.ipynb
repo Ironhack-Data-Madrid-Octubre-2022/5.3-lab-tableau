{
 "cells": [
  {
   "cell_type": "markdown",
   "id": "cde829ed",
   "metadata": {},
   "source": [
    "En la historia realizada se ha relaizado un estudio verificando en que país es en el que menos ventas se producen, verificando que se trata de Japon.\n",
    "\n",
    "Se ha definido cuales son las líneas de productos con mayores y menos ventas y dentro de las mismas, cuales son los productos que más se venden en las 3 líneas de producto que aportan mayor capital a las ventas totales.\n",
    "\n",
    "https://public.tableau.com/app/profile/ana.chaparro/viz/TableuAnaChaparro/Historia2?publish=yes"
   ]
  }
 ],
 "metadata": {
  "kernelspec": {
   "display_name": "clase",
   "language": "python",
   "name": "clase"
  },
  "language_info": {
   "codemirror_mode": {
    "name": "ipython",
    "version": 3
   },
   "file_extension": ".py",
   "mimetype": "text/x-python",
   "name": "python",
   "nbconvert_exporter": "python",
   "pygments_lexer": "ipython3",
   "version": "3.7.13"
  }
 },
 "nbformat": 4,
 "nbformat_minor": 5
}
