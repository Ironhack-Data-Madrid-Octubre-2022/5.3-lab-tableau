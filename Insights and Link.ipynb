{
 "cells": [
  {
   "cell_type": "markdown",
   "id": "78fe5c9e",
   "metadata": {},
   "source": [
    "## Tableau Project"
   ]
  },
  {
   "cell_type": "markdown",
   "id": "80d53675",
   "metadata": {},
   "source": [
    "#### Insights"
   ]
  },
  {
   "cell_type": "markdown",
   "id": "14557419",
   "metadata": {},
   "source": [
    "The most important insights in the analisis have been:\n",
    "\n",
    "The unequal distribution of the arrival of payments throughout the year as well as how unevenly that distribution is within countries. For example Spain has peaks of payment in march and december while the United States has peaks in Septembre and November.\n",
    "\n",
    "The distribution within countries and categories of orders relative to the status of the order. The only countries with cancelled orders are New Zealand Spain the US and the UK. The orders most disproportionally canceled are Planes and Ships"
   ]
  },
  {
   "cell_type": "markdown",
   "id": "7a7fdc2d",
   "metadata": {},
   "source": [
    "#### Link"
   ]
  },
  {
   "cell_type": "markdown",
   "id": "c22ff576",
   "metadata": {},
   "source": [
    "https://public.tableau.com/authoring/Libro1_16686132951350/Historia1#3"
   ]
  }
 ],
 "metadata": {
  "kernelspec": {
   "display_name": "Python 3 (ipykernel)",
   "language": "python",
   "name": "python3"
  },
  "language_info": {
   "codemirror_mode": {
    "name": "ipython",
    "version": 3
   },
   "file_extension": ".py",
   "mimetype": "text/x-python",
   "name": "python",
   "nbconvert_exporter": "python",
   "pygments_lexer": "ipython3",
   "version": "3.9.12"
  }
 },
 "nbformat": 4,
 "nbformat_minor": 5
}
